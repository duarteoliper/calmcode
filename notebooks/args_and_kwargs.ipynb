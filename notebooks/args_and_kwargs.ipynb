{
 "cells": [
  {
   "cell_type": "code",
   "execution_count": 4,
   "metadata": {},
   "outputs": [
    {
     "ename": "TypeError",
     "evalue": "multiply() missing 1 required positional argument: 'c'",
     "output_type": "error",
     "traceback": [
      "\u001b[0;31m---------------------------------------------------------------------------\u001b[0m",
      "\u001b[0;31mTypeError\u001b[0m                                 Traceback (most recent call last)",
      "\u001b[1;32m/home/duartepereira/MLProjects/ToyProjects/calmcode/notebooks/args_and_kwargs.ipynb Cell 1\u001b[0m in \u001b[0;36m<cell line: 5>\u001b[0;34m()\u001b[0m\n\u001b[1;32m      <a href='vscode-notebook-cell://wsl%2Bubuntu-20.04/home/duartepereira/MLProjects/ToyProjects/calmcode/notebooks/args_and_kwargs.ipynb#ch0000000vscode-remote?line=0'>1</a>\u001b[0m \u001b[39mdef\u001b[39;00m \u001b[39mmultiply\u001b[39m(a, b, c):\n\u001b[1;32m      <a href='vscode-notebook-cell://wsl%2Bubuntu-20.04/home/duartepereira/MLProjects/ToyProjects/calmcode/notebooks/args_and_kwargs.ipynb#ch0000000vscode-remote?line=1'>2</a>\u001b[0m     \u001b[39mreturn\u001b[39;00m a \u001b[39m*\u001b[39m b \u001b[39m*\u001b[39m c\n\u001b[0;32m----> <a href='vscode-notebook-cell://wsl%2Bubuntu-20.04/home/duartepereira/MLProjects/ToyProjects/calmcode/notebooks/args_and_kwargs.ipynb#ch0000000vscode-remote?line=4'>5</a>\u001b[0m multiply(\u001b[39m4\u001b[39;49m, \u001b[39m2\u001b[39;49m)\n",
      "\u001b[0;31mTypeError\u001b[0m: multiply() missing 1 required positional argument: 'c'"
     ]
    }
   ],
   "source": [
    "def multiply(a, b, c):\n",
    "    return a * b * c\n",
    "\n",
    "\n",
    "multiply(4, 2)\n",
    "\n",
    "# This breaks!\n"
   ]
  },
  {
   "cell_type": "code",
   "execution_count": null,
   "metadata": {},
   "outputs": [
    {
     "name": "stdout",
     "output_type": "stream",
     "text": [
      "(4, 2, 2)\n"
     ]
    },
    {
     "data": {
      "text/plain": [
       "16"
      ]
     },
     "execution_count": 3,
     "metadata": {},
     "output_type": "execute_result"
    }
   ],
   "source": [
    "def multiply(*numbers):\n",
    "    print(numbers)\n",
    "    result = 1\n",
    "    for n in numbers:\n",
    "        result = result * n\n",
    "    return result\n",
    "\n",
    "\n",
    "multiply(4, 2, 2)\n",
    "\n",
    "# This does not!\n"
   ]
  },
  {
   "cell_type": "code",
   "execution_count": null,
   "metadata": {},
   "outputs": [
    {
     "name": "stdout",
     "output_type": "stream",
     "text": [
      "1 2\n",
      "()\n"
     ]
    }
   ],
   "source": [
    "def function(a, b, *args):\n",
    "    print(a, b)\n",
    "    print(args)\n",
    "\n",
    "\n",
    "function(1, 2)\n"
   ]
  },
  {
   "cell_type": "code",
   "execution_count": null,
   "metadata": {},
   "outputs": [
    {
     "name": "stdout",
     "output_type": "stream",
     "text": [
      "1 2\n",
      "(3, 4)\n"
     ]
    }
   ],
   "source": [
    "function(1, 2, 3, 4)\n"
   ]
  },
  {
   "cell_type": "code",
   "execution_count": null,
   "metadata": {},
   "outputs": [],
   "source": [
    "function(1, 2, 5, 3, 4)\n"
   ]
  },
  {
   "cell_type": "code",
   "execution_count": null,
   "metadata": {},
   "outputs": [
    {
     "name": "stdout",
     "output_type": "stream",
     "text": [
      "1 2\n",
      "(5, 3, 4)\n",
      "True\n",
      "{}\n"
     ]
    }
   ],
   "source": [
    "def function(a, b, *args, keyword=True, **kwargs):\n",
    "    print(a, b)\n",
    "    print(args)\n",
    "    print(keyword)\n",
    "    print(kwargs)\n",
    "\n",
    "\n",
    "function(1, 2, 5, 3, 4)\n"
   ]
  },
  {
   "cell_type": "code",
   "execution_count": null,
   "metadata": {},
   "outputs": [
    {
     "name": "stdout",
     "output_type": "stream",
     "text": [
      "1 2\n",
      "(5, 3, 4)\n",
      "True\n",
      "{'param': 42}\n"
     ]
    }
   ],
   "source": [
    "# *args - capture unnamed/extra arguments\n",
    "# **kwargs - capture named/keyword arguments\n",
    "\n",
    "\n",
    "def function(a, b, *args, keyword=True, **kwargs):\n",
    "    print(a, b)\n",
    "    print(args)\n",
    "    print(keyword)\n",
    "    print(kwargs)\n",
    "\n",
    "\n",
    "function(1, 2, 5, 3, 4, param=42)\n",
    "a = 1 + 2\n",
    "b = 2 + 3\n",
    "a = 1 + 1\n"
   ]
  },
  {
   "cell_type": "code",
   "execution_count": null,
   "metadata": {},
   "outputs": [
    {
     "ename": "SyntaxError",
     "evalue": "positional argument follows keyword argument (416558560.py, line 8)",
     "output_type": "error",
     "traceback": [
      "\u001b[0;36m  Input \u001b[0;32mIn [7]\u001b[0;36m\u001b[0m\n\u001b[0;31m    function(a=1, b=2, 5, 3, 4, param=42)\u001b[0m\n\u001b[0m                                        ^\u001b[0m\n\u001b[0;31mSyntaxError\u001b[0m\u001b[0;31m:\u001b[0m positional argument follows keyword argument\n"
     ]
    }
   ],
   "source": [
    "def function(a, b, *args, keyword=True, **kwargs):\n",
    "    print(a, b)\n",
    "    print(args)\n",
    "    print(keyword)\n",
    "    print(kwargs)\n",
    "\n",
    "\n",
    "function(a=1, b=2, 5, 3, 4, param=42)\n",
    "a = 1+2\n",
    "b = 2+3\n",
    "a = 1+1\n",
    "\n",
    "# positional argument follows keyword argument!!\n"
   ]
  },
  {
   "cell_type": "code",
   "execution_count": null,
   "metadata": {},
   "outputs": [
    {
     "name": "stdout",
     "output_type": "stream",
     "text": [
      "1 2\n",
      "(5, 3, 4)\n",
      "True\n",
      "{'param': 42, 'param_a': 43, 'param_b': 44}\n"
     ]
    }
   ],
   "source": [
    "def function(a, b, *args, keyword=True, **kwargs):\n",
    "    print(a, b)\n",
    "    print(args)\n",
    "    print(keyword)\n",
    "    print(kwargs)\n",
    "\n",
    "\n",
    "d = {\"param_a\": 43, \"param_b\": 44}\n",
    "function(1, 2, *[5, 3, 4], param=42, **d)\n",
    "\n",
    "# turn dictionary into keyword args\n",
    "# turn list into args"
   ]
  },
  {
   "cell_type": "code",
   "execution_count": 5,
   "metadata": {},
   "outputs": [],
   "source": [
    "import json\n",
    "import pathlib\n",
    "\n",
    "def dict_to_config(dictionary, file=\"config.json\", verbose=False, **kwargs):\n",
    "    \"\"\"_summary_\n",
    "\n",
    "    Args:\n",
    "        dictionary (_type_): _description_\n",
    "        file (str, optional): _description_. Defaults to \"config.json\".\n",
    "        verbose (bool, optional): _description_. Defaults to False.\n",
    "        kwargs: this is passed to json.dumps\n",
    "    \"\"\"\n",
    "    json_txt = json.dumps(dictionary, **kwargs)\n",
    "    if verbose:\n",
    "        print(json_txt)\n",
    "        pathlib.Path(file).write_text(json_txt)\n",
    "\n",
    "# kwargs passing to subfunction"
   ]
  },
  {
   "cell_type": "code",
   "execution_count": 6,
   "metadata": {},
   "outputs": [
    {
     "name": "stdout",
     "output_type": "stream",
     "text": [
      "{\n",
      "  \"a\": 1,\n",
      "  \"b\": 2\n",
      "}\n"
     ]
    }
   ],
   "source": [
    "dict_to_config({'a':1, 'b':2}, verbose=True, indent=2)"
   ]
  },
  {
   "cell_type": "code",
   "execution_count": 7,
   "metadata": {},
   "outputs": [
    {
     "name": "stdout",
     "output_type": "stream",
     "text": [
      "{\n",
      "  \"a\": 1,\n",
      "  \"b\": 2\n",
      "}"
     ]
    }
   ],
   "source": [
    "!cat config.json"
   ]
  },
  {
   "cell_type": "code",
   "execution_count": null,
   "metadata": {},
   "outputs": [],
   "source": []
  }
 ],
 "metadata": {
  "kernelspec": {
   "display_name": "Python 3.9.7 ('toyenv')",
   "language": "python",
   "name": "python3"
  },
  "language_info": {
   "codemirror_mode": {
    "name": "ipython",
    "version": 3
   },
   "file_extension": ".py",
   "mimetype": "text/x-python",
   "name": "python",
   "nbconvert_exporter": "python",
   "pygments_lexer": "ipython3",
   "version": "3.9.7"
  },
  "orig_nbformat": 4,
  "vscode": {
   "interpreter": {
    "hash": "6dc1220c06f250807628e76cd1cc970ba7d1171c3a3f4d36a3f44bf8a43a470f"
   }
  }
 },
 "nbformat": 4,
 "nbformat_minor": 2
}
